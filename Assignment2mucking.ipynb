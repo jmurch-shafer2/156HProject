{
 "cells": [
  {
   "cell_type": "code",
   "execution_count": 1,
   "metadata": {},
   "outputs": [],
   "source": [
    "testStr = \"306a;;Sampson, Brock;123 N 1st Street,Omaha,NE,68116,USA;brock_f_sampson@gmail.com,bsampson@venture.com\""
   ]
  },
  {
   "cell_type": "code",
   "execution_count": null,
   "metadata": {},
   "outputs": [],
   "source": [
    "import numpy as np\n",
    "\n",
    "\n",
    "\n",
    "for i in range(10):\n",
    "    \n",
    "    personCode = \n",
    "    \n",
    "    brokerData = \n",
    "    \n",
    "    name = \n",
    "    \n",
    "    address = \n",
    "    \n",
    "    emailAddresses = \n",
    "    \n",
    "    \n",
    "    \n",
    "    printf(\"{};{};{};{}\".format(personCode))"
   ]
  }
 ],
 "metadata": {
  "kernelspec": {
   "display_name": "Python 3",
   "language": "python",
   "name": "python3"
  },
  "language_info": {
   "codemirror_mode": {
    "name": "ipython",
    "version": 3
   },
   "file_extension": ".py",
   "mimetype": "text/x-python",
   "name": "python",
   "nbconvert_exporter": "python",
   "pygments_lexer": "ipython3",
   "version": "3.6.5"
  }
 },
 "nbformat": 4,
 "nbformat_minor": 2
}
